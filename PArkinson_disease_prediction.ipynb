{
 "cells": [
  {
   "cell_type": "code",
   "execution_count": 59,
   "id": "3e671617",
   "metadata": {},
   "outputs": [],
   "source": [
    "# Gathering dependencies\n",
    "\n",
    "\n",
    "import numpy as np\n",
    "import pandas as pd\n",
    "from sklearn.model_selection import train_test_split\n",
    "from sklearn.preprocessing import StandardScaler,MinMaxScaler,MaxAbsScaler,RobustScaler\n",
    "from sklearn import svm\n",
    "from sklearn.metrics import accuracy_score\n",
    "import matplotlib.pyplot as plt\n",
    "import seaborn as sns\n"
   ]
  },
  {
   "cell_type": "code",
   "execution_count": 60,
   "id": "c8f4e505",
   "metadata": {},
   "outputs": [
    {
     "data": {
      "text/html": [
       "<div>\n",
       "<style scoped>\n",
       "    .dataframe tbody tr th:only-of-type {\n",
       "        vertical-align: middle;\n",
       "    }\n",
       "\n",
       "    .dataframe tbody tr th {\n",
       "        vertical-align: top;\n",
       "    }\n",
       "\n",
       "    .dataframe thead th {\n",
       "        text-align: right;\n",
       "    }\n",
       "</style>\n",
       "<table border=\"1\" class=\"dataframe\">\n",
       "  <thead>\n",
       "    <tr style=\"text-align: right;\">\n",
       "      <th></th>\n",
       "      <th>name</th>\n",
       "      <th>MDVP:Fo(Hz)</th>\n",
       "      <th>MDVP:Fhi(Hz)</th>\n",
       "      <th>MDVP:Flo(Hz)</th>\n",
       "      <th>MDVP:Jitter(%)</th>\n",
       "      <th>MDVP:Jitter(Abs)</th>\n",
       "      <th>MDVP:RAP</th>\n",
       "      <th>MDVP:PPQ</th>\n",
       "      <th>Jitter:DDP</th>\n",
       "      <th>MDVP:Shimmer</th>\n",
       "      <th>...</th>\n",
       "      <th>Shimmer:DDA</th>\n",
       "      <th>NHR</th>\n",
       "      <th>HNR</th>\n",
       "      <th>status</th>\n",
       "      <th>RPDE</th>\n",
       "      <th>DFA</th>\n",
       "      <th>spread1</th>\n",
       "      <th>spread2</th>\n",
       "      <th>D2</th>\n",
       "      <th>PPE</th>\n",
       "    </tr>\n",
       "  </thead>\n",
       "  <tbody>\n",
       "    <tr>\n",
       "      <th>0</th>\n",
       "      <td>phon_R01_S01_1</td>\n",
       "      <td>119.992</td>\n",
       "      <td>157.302</td>\n",
       "      <td>74.997</td>\n",
       "      <td>0.00784</td>\n",
       "      <td>0.00007</td>\n",
       "      <td>0.00370</td>\n",
       "      <td>0.00554</td>\n",
       "      <td>0.01109</td>\n",
       "      <td>0.04374</td>\n",
       "      <td>...</td>\n",
       "      <td>0.06545</td>\n",
       "      <td>0.02211</td>\n",
       "      <td>21.033</td>\n",
       "      <td>1</td>\n",
       "      <td>0.414783</td>\n",
       "      <td>0.815285</td>\n",
       "      <td>-4.813031</td>\n",
       "      <td>0.266482</td>\n",
       "      <td>2.301442</td>\n",
       "      <td>0.284654</td>\n",
       "    </tr>\n",
       "    <tr>\n",
       "      <th>1</th>\n",
       "      <td>phon_R01_S01_2</td>\n",
       "      <td>122.400</td>\n",
       "      <td>148.650</td>\n",
       "      <td>113.819</td>\n",
       "      <td>0.00968</td>\n",
       "      <td>0.00008</td>\n",
       "      <td>0.00465</td>\n",
       "      <td>0.00696</td>\n",
       "      <td>0.01394</td>\n",
       "      <td>0.06134</td>\n",
       "      <td>...</td>\n",
       "      <td>0.09403</td>\n",
       "      <td>0.01929</td>\n",
       "      <td>19.085</td>\n",
       "      <td>1</td>\n",
       "      <td>0.458359</td>\n",
       "      <td>0.819521</td>\n",
       "      <td>-4.075192</td>\n",
       "      <td>0.335590</td>\n",
       "      <td>2.486855</td>\n",
       "      <td>0.368674</td>\n",
       "    </tr>\n",
       "    <tr>\n",
       "      <th>2</th>\n",
       "      <td>phon_R01_S01_3</td>\n",
       "      <td>116.682</td>\n",
       "      <td>131.111</td>\n",
       "      <td>111.555</td>\n",
       "      <td>0.01050</td>\n",
       "      <td>0.00009</td>\n",
       "      <td>0.00544</td>\n",
       "      <td>0.00781</td>\n",
       "      <td>0.01633</td>\n",
       "      <td>0.05233</td>\n",
       "      <td>...</td>\n",
       "      <td>0.08270</td>\n",
       "      <td>0.01309</td>\n",
       "      <td>20.651</td>\n",
       "      <td>1</td>\n",
       "      <td>NaN</td>\n",
       "      <td>0.825288</td>\n",
       "      <td>-4.443179</td>\n",
       "      <td>0.311173</td>\n",
       "      <td>2.342259</td>\n",
       "      <td>0.332634</td>\n",
       "    </tr>\n",
       "    <tr>\n",
       "      <th>3</th>\n",
       "      <td>phon_R01_S01_4</td>\n",
       "      <td>116.676</td>\n",
       "      <td>137.871</td>\n",
       "      <td>111.366</td>\n",
       "      <td>0.00997</td>\n",
       "      <td>0.00009</td>\n",
       "      <td>0.00502</td>\n",
       "      <td>0.00698</td>\n",
       "      <td>0.01505</td>\n",
       "      <td>0.05492</td>\n",
       "      <td>...</td>\n",
       "      <td>0.08771</td>\n",
       "      <td>0.01353</td>\n",
       "      <td>20.644</td>\n",
       "      <td>1</td>\n",
       "      <td>0.434969</td>\n",
       "      <td>0.819235</td>\n",
       "      <td>-4.117501</td>\n",
       "      <td>0.334147</td>\n",
       "      <td>2.405554</td>\n",
       "      <td>0.368975</td>\n",
       "    </tr>\n",
       "    <tr>\n",
       "      <th>4</th>\n",
       "      <td>phon_R01_S01_5</td>\n",
       "      <td>116.014</td>\n",
       "      <td>141.781</td>\n",
       "      <td>110.655</td>\n",
       "      <td>0.01284</td>\n",
       "      <td>0.00011</td>\n",
       "      <td>0.00655</td>\n",
       "      <td>0.00908</td>\n",
       "      <td>0.01966</td>\n",
       "      <td>0.06425</td>\n",
       "      <td>...</td>\n",
       "      <td>0.10470</td>\n",
       "      <td>0.01767</td>\n",
       "      <td>19.649</td>\n",
       "      <td>1</td>\n",
       "      <td>0.417356</td>\n",
       "      <td>0.823484</td>\n",
       "      <td>-3.747787</td>\n",
       "      <td>0.234513</td>\n",
       "      <td>2.332180</td>\n",
       "      <td>0.410335</td>\n",
       "    </tr>\n",
       "  </tbody>\n",
       "</table>\n",
       "<p>5 rows × 24 columns</p>\n",
       "</div>"
      ],
      "text/plain": [
       "             name  MDVP:Fo(Hz)  MDVP:Fhi(Hz)  MDVP:Flo(Hz)  MDVP:Jitter(%)  \\\n",
       "0  phon_R01_S01_1      119.992       157.302        74.997         0.00784   \n",
       "1  phon_R01_S01_2      122.400       148.650       113.819         0.00968   \n",
       "2  phon_R01_S01_3      116.682       131.111       111.555         0.01050   \n",
       "3  phon_R01_S01_4      116.676       137.871       111.366         0.00997   \n",
       "4  phon_R01_S01_5      116.014       141.781       110.655         0.01284   \n",
       "\n",
       "   MDVP:Jitter(Abs)  MDVP:RAP  MDVP:PPQ  Jitter:DDP  MDVP:Shimmer  ...  \\\n",
       "0           0.00007   0.00370   0.00554     0.01109       0.04374  ...   \n",
       "1           0.00008   0.00465   0.00696     0.01394       0.06134  ...   \n",
       "2           0.00009   0.00544   0.00781     0.01633       0.05233  ...   \n",
       "3           0.00009   0.00502   0.00698     0.01505       0.05492  ...   \n",
       "4           0.00011   0.00655   0.00908     0.01966       0.06425  ...   \n",
       "\n",
       "   Shimmer:DDA      NHR     HNR  status      RPDE       DFA   spread1  \\\n",
       "0      0.06545  0.02211  21.033       1  0.414783  0.815285 -4.813031   \n",
       "1      0.09403  0.01929  19.085       1  0.458359  0.819521 -4.075192   \n",
       "2      0.08270  0.01309  20.651       1       NaN  0.825288 -4.443179   \n",
       "3      0.08771  0.01353  20.644       1  0.434969  0.819235 -4.117501   \n",
       "4      0.10470  0.01767  19.649       1  0.417356  0.823484 -3.747787   \n",
       "\n",
       "    spread2        D2       PPE  \n",
       "0  0.266482  2.301442  0.284654  \n",
       "1  0.335590  2.486855  0.368674  \n",
       "2  0.311173  2.342259  0.332634  \n",
       "3  0.334147  2.405554  0.368975  \n",
       "4  0.234513  2.332180  0.410335  \n",
       "\n",
       "[5 rows x 24 columns]"
      ]
     },
     "execution_count": 60,
     "metadata": {},
     "output_type": "execute_result"
    }
   ],
   "source": [
    "# Data loading from csv to datframe\n",
    "\n",
    "parkinson_data=pd.read_csv('C:/Users/ayush/Desktop/ml_project/parkinsons.csv')\n",
    "\n",
    "parkinson_data.head()"
   ]
  },
  {
   "cell_type": "code",
   "execution_count": 61,
   "id": "c2bfa72c",
   "metadata": {},
   "outputs": [
    {
     "name": "stdout",
     "output_type": "stream",
     "text": [
      "<class 'pandas.core.frame.DataFrame'>\n",
      "RangeIndex: 195 entries, 0 to 194\n",
      "Data columns (total 24 columns):\n",
      " #   Column            Non-Null Count  Dtype  \n",
      "---  ------            --------------  -----  \n",
      " 0   name              195 non-null    object \n",
      " 1   MDVP:Fo(Hz)       195 non-null    float64\n",
      " 2   MDVP:Fhi(Hz)      195 non-null    float64\n",
      " 3   MDVP:Flo(Hz)      195 non-null    float64\n",
      " 4   MDVP:Jitter(%)    195 non-null    float64\n",
      " 5   MDVP:Jitter(Abs)  195 non-null    float64\n",
      " 6   MDVP:RAP          195 non-null    float64\n",
      " 7   MDVP:PPQ          195 non-null    float64\n",
      " 8   Jitter:DDP        195 non-null    float64\n",
      " 9   MDVP:Shimmer      195 non-null    float64\n",
      " 10  MDVP:Shimmer(dB)  195 non-null    float64\n",
      " 11  Shimmer:APQ3      195 non-null    float64\n",
      " 12  Shimmer:APQ5      195 non-null    float64\n",
      " 13  MDVP:APQ          195 non-null    float64\n",
      " 14  Shimmer:DDA       195 non-null    float64\n",
      " 15  NHR               195 non-null    float64\n",
      " 16  HNR               195 non-null    float64\n",
      " 17  status            195 non-null    int64  \n",
      " 18  RPDE              190 non-null    float64\n",
      " 19  DFA               195 non-null    float64\n",
      " 20  spread1           191 non-null    float64\n",
      " 21  spread2           195 non-null    float64\n",
      " 22  D2                195 non-null    float64\n",
      " 23  PPE               195 non-null    float64\n",
      "dtypes: float64(22), int64(1), object(1)\n",
      "memory usage: 36.7+ KB\n"
     ]
    }
   ],
   "source": [
    "#information about dataset\n",
    "parkinson_data.shape\n",
    "parkinson_data.info()"
   ]
  },
  {
   "cell_type": "code",
   "execution_count": 62,
   "id": "9330539e",
   "metadata": {},
   "outputs": [
    {
     "data": {
      "text/plain": [
       "name                0\n",
       "MDVP:Fo(Hz)         0\n",
       "MDVP:Fhi(Hz)        0\n",
       "MDVP:Flo(Hz)        0\n",
       "MDVP:Jitter(%)      0\n",
       "MDVP:Jitter(Abs)    0\n",
       "MDVP:RAP            0\n",
       "MDVP:PPQ            0\n",
       "Jitter:DDP          0\n",
       "MDVP:Shimmer        0\n",
       "MDVP:Shimmer(dB)    0\n",
       "Shimmer:APQ3        0\n",
       "Shimmer:APQ5        0\n",
       "MDVP:APQ            0\n",
       "Shimmer:DDA         0\n",
       "NHR                 0\n",
       "HNR                 0\n",
       "status              0\n",
       "RPDE                5\n",
       "DFA                 0\n",
       "spread1             4\n",
       "spread2             0\n",
       "D2                  0\n",
       "PPE                 0\n",
       "dtype: int64"
      ]
     },
     "execution_count": 62,
     "metadata": {},
     "output_type": "execute_result"
    }
   ],
   "source": [
    "#check for missing values\n",
    "parkinson_data.isnull().sum()"
   ]
  },
  {
   "cell_type": "code",
   "execution_count": 66,
   "id": "c3d06678",
   "metadata": {},
   "outputs": [
    {
     "data": {
      "text/plain": [
       "<seaborn.axisgrid.FacetGrid at 0x18d5e85faf0>"
      ]
     },
     "execution_count": 66,
     "metadata": {},
     "output_type": "execute_result"
    },
    {
     "data": {
      "image/png": "[encoded data removed]",
      "text/plain": [
       "<Figure size 720x720 with 1 Axes>"
      ]
     },
     "metadata": {
      "needs_background": "light"
     },
     "output_type": "display_data"
    },
    {
     "data": {
      "image/png": "[encoded data removed]",
      "text/plain": [
       "<Figure size 360x360 with 1 Axes>"
      ]
     },
     "metadata": {
      "needs_background": "light"
     },
     "output_type": "display_data"
    }
   ],
   "source": [
    "# data preprocessing filling in missing/NULL values\n",
    "# for RPDE\n",
    "fig, ax=plt.subplots(figsize=(10,10))\n",
    "sns.displot(parkinson_data.RPDE)\n"
   ]
  },
  {
   "cell_type": "markdown",
   "id": "67477b89",
   "metadata": {},
   "source": [
    "We will be using mean for imputation of missing data as we see the mean values very well defines the values\n"
   ]
  },
  {
   "cell_type": "code",
   "execution_count": 67,
   "id": "254d0d14",
   "metadata": {},
   "outputs": [],
   "source": [
    "parkinson_data['RPDE'].fillna(parkinson_data['RPDE'].mean(),inplace=True)\n"
   ]
  },
  {
   "cell_type": "code",
   "execution_count": 63,
   "id": "eeb3574b",
   "metadata": {},
   "outputs": [
    {
     "data": {
      "text/plain": [
       "<seaborn.axisgrid.FacetGrid at 0x18d5e7a6650>"
      ]
     },
     "execution_count": 63,
     "metadata": {},
     "output_type": "execute_result"
    },
    {
     "data": {
      "image/png": "[encoded data removed]",
      "text/plain": [
       "<Figure size 720x720 with 1 Axes>"
      ]
     },
     "metadata": {
      "needs_background": "light"
     },
     "output_type": "display_data"
    },
    {
     "data": {
      "image/png": "[encoded data removed]",
      "text/plain": [
       "<Figure size 360x360 with 1 Axes>"
      ]
     },
     "metadata": {
      "needs_background": "light"
     },
     "output_type": "display_data"
    }
   ],
   "source": [
    "# now for spread1\n",
    "fig, ax=plt.subplots(figsize=(10,10))\n",
    "sns.displot(parkinson_data.spread1)\n"
   ]
  },
  {
   "cell_type": "code",
   "execution_count": 64,
   "id": "c7b39a22",
   "metadata": {},
   "outputs": [],
   "source": [
    "parkinson_data['spread1'].fillna(parkinson_data['spread1'].mean(),inplace=True)"
   ]
  },
  {
   "cell_type": "markdown",
   "id": "24d7a601",
   "metadata": {},
   "source": [
    "checking if our values are correct now\n"
   ]
  },
  {
   "cell_type": "code",
   "execution_count": 68,
   "id": "2980dd31",
   "metadata": {},
   "outputs": [
    {
     "data": {
      "text/plain": [
       "name                0\n",
       "MDVP:Fo(Hz)         0\n",
       "MDVP:Fhi(Hz)        0\n",
       "MDVP:Flo(Hz)        0\n",
       "MDVP:Jitter(%)      0\n",
       "MDVP:Jitter(Abs)    0\n",
       "MDVP:RAP            0\n",
       "MDVP:PPQ            0\n",
       "Jitter:DDP          0\n",
       "MDVP:Shimmer        0\n",
       "MDVP:Shimmer(dB)    0\n",
       "Shimmer:APQ3        0\n",
       "Shimmer:APQ5        0\n",
       "MDVP:APQ            0\n",
       "Shimmer:DDA         0\n",
       "NHR                 0\n",
       "HNR                 0\n",
       "status              0\n",
       "RPDE                0\n",
       "DFA                 0\n",
       "spread1             0\n",
       "spread2             0\n",
       "D2                  0\n",
       "PPE                 0\n",
       "dtype: int64"
      ]
     },
     "execution_count": 68,
     "metadata": {},
     "output_type": "execute_result"
    }
   ],
   "source": [
    "parkinson_data.isnull().sum()"
   ]
  },
  {
   "cell_type": "markdown",
   "id": "a526875b",
   "metadata": {},
   "source": [
    "we have filled out the missing values now we will see some more features of data"
   ]
  },
  {
   "cell_type": "code",
   "execution_count": 11,
   "id": "9c14a646",
   "metadata": {},
   "outputs": [
    {
     "data": {
      "text/html": [
       "<div>\n",
       "<style scoped>\n",
       "    .dataframe tbody tr th:only-of-type {\n",
       "        vertical-align: middle;\n",
       "    }\n",
       "\n",
       "    .dataframe tbody tr th {\n",
       "        vertical-align: top;\n",
       "    }\n",
       "\n",
       "    .dataframe thead th {\n",
       "        text-align: right;\n",
       "    }\n",
       "</style>\n",
       "<table border=\"1\" class=\"dataframe\">\n",
       "  <thead>\n",
       "    <tr style=\"text-align: right;\">\n",
       "      <th></th>\n",
       "      <th>MDVP:Fo(Hz)</th>\n",
       "      <th>MDVP:Fhi(Hz)</th>\n",
       "      <th>MDVP:Flo(Hz)</th>\n",
       "      <th>MDVP:Jitter(%)</th>\n",
       "      <th>MDVP:Jitter(Abs)</th>\n",
       "      <th>MDVP:RAP</th>\n",
       "      <th>MDVP:PPQ</th>\n",
       "      <th>Jitter:DDP</th>\n",
       "      <th>MDVP:Shimmer</th>\n",
       "      <th>MDVP:Shimmer(dB)</th>\n",
       "      <th>...</th>\n",
       "      <th>Shimmer:DDA</th>\n",
       "      <th>NHR</th>\n",
       "      <th>HNR</th>\n",
       "      <th>status</th>\n",
       "      <th>RPDE</th>\n",
       "      <th>DFA</th>\n",
       "      <th>spread1</th>\n",
       "      <th>spread2</th>\n",
       "      <th>D2</th>\n",
       "      <th>PPE</th>\n",
       "    </tr>\n",
       "  </thead>\n",
       "  <tbody>\n",
       "    <tr>\n",
       "      <th>count</th>\n",
       "      <td>195.000000</td>\n",
       "      <td>195.000000</td>\n",
       "      <td>195.000000</td>\n",
       "      <td>195.000000</td>\n",
       "      <td>195.000000</td>\n",
       "      <td>195.000000</td>\n",
       "      <td>195.000000</td>\n",
       "      <td>195.000000</td>\n",
       "      <td>195.000000</td>\n",
       "      <td>195.000000</td>\n",
       "      <td>...</td>\n",
       "      <td>195.000000</td>\n",
       "      <td>195.000000</td>\n",
       "      <td>195.000000</td>\n",
       "      <td>195.000000</td>\n",
       "      <td>195.000000</td>\n",
       "      <td>195.000000</td>\n",
       "      <td>195.000000</td>\n",
       "      <td>195.000000</td>\n",
       "      <td>195.000000</td>\n",
       "      <td>195.000000</td>\n",
       "    </tr>\n",
       "    <tr>\n",
       "      <th>mean</th>\n",
       "      <td>154.228641</td>\n",
       "      <td>197.104918</td>\n",
       "      <td>116.324631</td>\n",
       "      <td>0.006220</td>\n",
       "      <td>0.000044</td>\n",
       "      <td>0.003306</td>\n",
       "      <td>0.003446</td>\n",
       "      <td>0.009920</td>\n",
       "      <td>0.029709</td>\n",
       "      <td>0.282251</td>\n",
       "      <td>...</td>\n",
       "      <td>0.046993</td>\n",
       "      <td>0.024847</td>\n",
       "      <td>21.885974</td>\n",
       "      <td>0.753846</td>\n",
       "      <td>0.498536</td>\n",
       "      <td>0.718099</td>\n",
       "      <td>-5.684397</td>\n",
       "      <td>0.226510</td>\n",
       "      <td>2.381826</td>\n",
       "      <td>0.206552</td>\n",
       "    </tr>\n",
       "    <tr>\n",
       "      <th>std</th>\n",
       "      <td>41.390065</td>\n",
       "      <td>91.491548</td>\n",
       "      <td>43.521413</td>\n",
       "      <td>0.004848</td>\n",
       "      <td>0.000035</td>\n",
       "      <td>0.002968</td>\n",
       "      <td>0.002759</td>\n",
       "      <td>0.008903</td>\n",
       "      <td>0.018857</td>\n",
       "      <td>0.194877</td>\n",
       "      <td>...</td>\n",
       "      <td>0.030459</td>\n",
       "      <td>0.040418</td>\n",
       "      <td>4.425764</td>\n",
       "      <td>0.431878</td>\n",
       "      <td>0.103942</td>\n",
       "      <td>0.055336</td>\n",
       "      <td>1.090208</td>\n",
       "      <td>0.083406</td>\n",
       "      <td>0.382799</td>\n",
       "      <td>0.090119</td>\n",
       "    </tr>\n",
       "    <tr>\n",
       "      <th>min</th>\n",
       "      <td>88.333000</td>\n",
       "      <td>102.145000</td>\n",
       "      <td>65.476000</td>\n",
       "      <td>0.001680</td>\n",
       "      <td>0.000007</td>\n",
       "      <td>0.000680</td>\n",
       "      <td>0.000920</td>\n",
       "      <td>0.002040</td>\n",
       "      <td>0.009540</td>\n",
       "      <td>0.085000</td>\n",
       "      <td>...</td>\n",
       "      <td>0.013640</td>\n",
       "      <td>0.000650</td>\n",
       "      <td>8.441000</td>\n",
       "      <td>0.000000</td>\n",
       "      <td>0.256570</td>\n",
       "      <td>0.574282</td>\n",
       "      <td>-7.964984</td>\n",
       "      <td>0.006274</td>\n",
       "      <td>1.423287</td>\n",
       "      <td>0.044539</td>\n",
       "    </tr>\n",
       "    <tr>\n",
       "      <th>25%</th>\n",
       "      <td>117.572000</td>\n",
       "      <td>134.862500</td>\n",
       "      <td>84.291000</td>\n",
       "      <td>0.003460</td>\n",
       "      <td>0.000020</td>\n",
       "      <td>0.001660</td>\n",
       "      <td>0.001860</td>\n",
       "      <td>0.004985</td>\n",
       "      <td>0.016505</td>\n",
       "      <td>0.148500</td>\n",
       "      <td>...</td>\n",
       "      <td>0.024735</td>\n",
       "      <td>0.005925</td>\n",
       "      <td>19.198000</td>\n",
       "      <td>1.000000</td>\n",
       "      <td>0.421306</td>\n",
       "      <td>0.674758</td>\n",
       "      <td>-6.450096</td>\n",
       "      <td>0.174351</td>\n",
       "      <td>2.099125</td>\n",
       "      <td>0.137451</td>\n",
       "    </tr>\n",
       "    <tr>\n",
       "      <th>50%</th>\n",
       "      <td>148.790000</td>\n",
       "      <td>175.829000</td>\n",
       "      <td>104.315000</td>\n",
       "      <td>0.004940</td>\n",
       "      <td>0.000030</td>\n",
       "      <td>0.002500</td>\n",
       "      <td>0.002690</td>\n",
       "      <td>0.007490</td>\n",
       "      <td>0.022970</td>\n",
       "      <td>0.221000</td>\n",
       "      <td>...</td>\n",
       "      <td>0.038360</td>\n",
       "      <td>0.011660</td>\n",
       "      <td>22.085000</td>\n",
       "      <td>1.000000</td>\n",
       "      <td>0.495954</td>\n",
       "      <td>0.722254</td>\n",
       "      <td>-5.720868</td>\n",
       "      <td>0.218885</td>\n",
       "      <td>2.361532</td>\n",
       "      <td>0.194052</td>\n",
       "    </tr>\n",
       "    <tr>\n",
       "      <th>75%</th>\n",
       "      <td>182.769000</td>\n",
       "      <td>224.205500</td>\n",
       "      <td>140.018500</td>\n",
       "      <td>0.007365</td>\n",
       "      <td>0.000060</td>\n",
       "      <td>0.003835</td>\n",
       "      <td>0.003955</td>\n",
       "      <td>0.011505</td>\n",
       "      <td>0.037885</td>\n",
       "      <td>0.350000</td>\n",
       "      <td>...</td>\n",
       "      <td>0.060795</td>\n",
       "      <td>0.025640</td>\n",
       "      <td>25.075500</td>\n",
       "      <td>1.000000</td>\n",
       "      <td>0.587562</td>\n",
       "      <td>0.761881</td>\n",
       "      <td>-5.046192</td>\n",
       "      <td>0.279234</td>\n",
       "      <td>2.636456</td>\n",
       "      <td>0.252980</td>\n",
       "    </tr>\n",
       "    <tr>\n",
       "      <th>max</th>\n",
       "      <td>260.105000</td>\n",
       "      <td>592.030000</td>\n",
       "      <td>239.170000</td>\n",
       "      <td>0.033160</td>\n",
       "      <td>0.000260</td>\n",
       "      <td>0.021440</td>\n",
       "      <td>0.019580</td>\n",
       "      <td>0.064330</td>\n",
       "      <td>0.119080</td>\n",
       "      <td>1.302000</td>\n",
       "      <td>...</td>\n",
       "      <td>0.169420</td>\n",
       "      <td>0.314820</td>\n",
       "      <td>33.047000</td>\n",
       "      <td>1.000000</td>\n",
       "      <td>0.685151</td>\n",
       "      <td>0.825288</td>\n",
       "      <td>-2.434031</td>\n",
       "      <td>0.450493</td>\n",
       "      <td>3.671155</td>\n",
       "      <td>0.527367</td>\n",
       "    </tr>\n",
       "  </tbody>\n",
       "</table>\n",
       "<p>8 rows × 23 columns</p>\n",
       "</div>"
      ],
      "text/plain": [
       "       MDVP:Fo(Hz)  MDVP:Fhi(Hz)  MDVP:Flo(Hz)  MDVP:Jitter(%)  \\\n",
       "count   195.000000    195.000000    195.000000      195.000000   \n",
       "mean    154.228641    197.104918    116.324631        0.006220   \n",
       "std      41.390065     91.491548     43.521413        0.004848   \n",
       "min      88.333000    102.145000     65.476000        0.001680   \n",
       "25%     117.572000    134.862500     84.291000        0.003460   \n",
       "50%     148.790000    175.829000    104.315000        0.004940   \n",
       "75%     182.769000    224.205500    140.018500        0.007365   \n",
       "max     260.105000    592.030000    239.170000        0.033160   \n",
       "\n",
       "       MDVP:Jitter(Abs)    MDVP:RAP    MDVP:PPQ  Jitter:DDP  MDVP:Shimmer  \\\n",
       "count        195.000000  195.000000  195.000000  195.000000    195.000000   \n",
       "mean           0.000044    0.003306    0.003446    0.009920      0.029709   \n",
       "std            0.000035    0.002968    0.002759    0.008903      0.018857   \n",
       "min            0.000007    0.000680    0.000920    0.002040      0.009540   \n",
       "25%            0.000020    0.001660    0.001860    0.004985      0.016505   \n",
       "50%            0.000030    0.002500    0.002690    0.007490      0.022970   \n",
       "75%            0.000060    0.003835    0.003955    0.011505      0.037885   \n",
       "max            0.000260    0.021440    0.019580    0.064330      0.119080   \n",
       "\n",
       "       MDVP:Shimmer(dB)  ...  Shimmer:DDA         NHR         HNR      status  \\\n",
       "count        195.000000  ...   195.000000  195.000000  195.000000  195.000000   \n",
       "mean           0.282251  ...     0.046993    0.024847   21.885974    0.753846   \n",
       "std            0.194877  ...     0.030459    0.040418    4.425764    0.431878   \n",
       "min            0.085000  ...     0.013640    0.000650    8.441000    0.000000   \n",
       "25%            0.148500  ...     0.024735    0.005925   19.198000    1.000000   \n",
       "50%            0.221000  ...     0.038360    0.011660   22.085000    1.000000   \n",
       "75%            0.350000  ...     0.060795    0.025640   25.075500    1.000000   \n",
       "max            1.302000  ...     0.169420    0.314820   33.047000    1.000000   \n",
       "\n",
       "             RPDE         DFA     spread1     spread2          D2         PPE  \n",
       "count  195.000000  195.000000  195.000000  195.000000  195.000000  195.000000  \n",
       "mean     0.498536    0.718099   -5.684397    0.226510    2.381826    0.206552  \n",
       "std      0.103942    0.055336    1.090208    0.083406    0.382799    0.090119  \n",
       "min      0.256570    0.574282   -7.964984    0.006274    1.423287    0.044539  \n",
       "25%      0.421306    0.674758   -6.450096    0.174351    2.099125    0.137451  \n",
       "50%      0.495954    0.722254   -5.720868    0.218885    2.361532    0.194052  \n",
       "75%      0.587562    0.761881   -5.046192    0.279234    2.636456    0.252980  \n",
       "max      0.685151    0.825288   -2.434031    0.450493    3.671155    0.527367  \n",
       "\n",
       "[8 rows x 23 columns]"
      ]
     },
     "execution_count": 11,
     "metadata": {},
     "output_type": "execute_result"
    }
   ],
   "source": [
    "#  statiistical values of data\n",
    "parkinson_data.describe()"
   ]
  },
  {
   "cell_type": "code",
   "execution_count": 16,
   "id": "1c38b7b4",
   "metadata": {},
   "outputs": [
    {
     "name": "stdout",
     "output_type": "stream",
     "text": [
      "0      1\n",
      "1      1\n",
      "2      1\n",
      "3      1\n",
      "4      1\n",
      "      ..\n",
      "190    0\n",
      "191    0\n",
      "192    0\n",
      "193    0\n",
      "194    0\n",
      "Name: status, Length: 195, dtype: int64\n"
     ]
    },
    {
     "data": {
      "text/plain": [
       "1    147\n",
       "0     48\n",
       "Name: status, dtype: int64"
      ]
     },
     "execution_count": 16,
     "metadata": {},
     "output_type": "execute_result"
    }
   ],
   "source": [
    "#Seperating target variable\n",
    "# here the cloumn status is our target variable\n",
    "print(parkinson_data.status)\n",
    "\n",
    "parkinson_data['status'].value_counts()\n"
   ]
  },
  {
   "cell_type": "markdown",
   "id": "0ca5331c",
   "metadata": {},
   "source": [
    "0 is positive (i.e) people with parkison"
   ]
  },
  {
   "cell_type": "code",
   "execution_count": 13,
   "id": "7afbee12",
   "metadata": {},
   "outputs": [
    {
     "data": {
      "text/html": [
       "<div>\n",
       "<style scoped>\n",
       "    .dataframe tbody tr th:only-of-type {\n",
       "        vertical-align: middle;\n",
       "    }\n",
       "\n",
       "    .dataframe tbody tr th {\n",
       "        vertical-align: top;\n",
       "    }\n",
       "\n",
       "    .dataframe thead th {\n",
       "        text-align: right;\n",
       "    }\n",
       "</style>\n",
       "<table border=\"1\" class=\"dataframe\">\n",
       "  <thead>\n",
       "    <tr style=\"text-align: right;\">\n",
       "      <th></th>\n",
       "      <th>MDVP:Fo(Hz)</th>\n",
       "      <th>MDVP:Fhi(Hz)</th>\n",
       "      <th>MDVP:Flo(Hz)</th>\n",
       "      <th>MDVP:Jitter(%)</th>\n",
       "      <th>MDVP:Jitter(Abs)</th>\n",
       "      <th>MDVP:RAP</th>\n",
       "      <th>MDVP:PPQ</th>\n",
       "      <th>Jitter:DDP</th>\n",
       "      <th>MDVP:Shimmer</th>\n",
       "      <th>MDVP:Shimmer(dB)</th>\n",
       "      <th>...</th>\n",
       "      <th>MDVP:APQ</th>\n",
       "      <th>Shimmer:DDA</th>\n",
       "      <th>NHR</th>\n",
       "      <th>HNR</th>\n",
       "      <th>RPDE</th>\n",
       "      <th>DFA</th>\n",
       "      <th>spread1</th>\n",
       "      <th>spread2</th>\n",
       "      <th>D2</th>\n",
       "      <th>PPE</th>\n",
       "    </tr>\n",
       "    <tr>\n",
       "      <th>status</th>\n",
       "      <th></th>\n",
       "      <th></th>\n",
       "      <th></th>\n",
       "      <th></th>\n",
       "      <th></th>\n",
       "      <th></th>\n",
       "      <th></th>\n",
       "      <th></th>\n",
       "      <th></th>\n",
       "      <th></th>\n",
       "      <th></th>\n",
       "      <th></th>\n",
       "      <th></th>\n",
       "      <th></th>\n",
       "      <th></th>\n",
       "      <th></th>\n",
       "      <th></th>\n",
       "      <th></th>\n",
       "      <th></th>\n",
       "      <th></th>\n",
       "      <th></th>\n",
       "    </tr>\n",
       "  </thead>\n",
       "  <tbody>\n",
       "    <tr>\n",
       "      <th>0</th>\n",
       "      <td>181.937771</td>\n",
       "      <td>223.636750</td>\n",
       "      <td>145.207292</td>\n",
       "      <td>0.003866</td>\n",
       "      <td>0.000023</td>\n",
       "      <td>0.001925</td>\n",
       "      <td>0.002056</td>\n",
       "      <td>0.005776</td>\n",
       "      <td>0.017615</td>\n",
       "      <td>0.162958</td>\n",
       "      <td>...</td>\n",
       "      <td>0.013305</td>\n",
       "      <td>0.028511</td>\n",
       "      <td>0.011483</td>\n",
       "      <td>24.678750</td>\n",
       "      <td>0.442552</td>\n",
       "      <td>0.695716</td>\n",
       "      <td>-6.759264</td>\n",
       "      <td>0.160292</td>\n",
       "      <td>2.154491</td>\n",
       "      <td>0.123017</td>\n",
       "    </tr>\n",
       "    <tr>\n",
       "      <th>1</th>\n",
       "      <td>145.180762</td>\n",
       "      <td>188.441463</td>\n",
       "      <td>106.893558</td>\n",
       "      <td>0.006989</td>\n",
       "      <td>0.000051</td>\n",
       "      <td>0.003757</td>\n",
       "      <td>0.003900</td>\n",
       "      <td>0.011273</td>\n",
       "      <td>0.033658</td>\n",
       "      <td>0.321204</td>\n",
       "      <td>...</td>\n",
       "      <td>0.027600</td>\n",
       "      <td>0.053027</td>\n",
       "      <td>0.029211</td>\n",
       "      <td>20.974048</td>\n",
       "      <td>0.516816</td>\n",
       "      <td>0.725408</td>\n",
       "      <td>-5.333420</td>\n",
       "      <td>0.248133</td>\n",
       "      <td>2.456058</td>\n",
       "      <td>0.233828</td>\n",
       "    </tr>\n",
       "  </tbody>\n",
       "</table>\n",
       "<p>2 rows × 22 columns</p>\n",
       "</div>"
      ],
      "text/plain": [
       "        MDVP:Fo(Hz)  MDVP:Fhi(Hz)  MDVP:Flo(Hz)  MDVP:Jitter(%)  \\\n",
       "status                                                            \n",
       "0        181.937771    223.636750    145.207292        0.003866   \n",
       "1        145.180762    188.441463    106.893558        0.006989   \n",
       "\n",
       "        MDVP:Jitter(Abs)  MDVP:RAP  MDVP:PPQ  Jitter:DDP  MDVP:Shimmer  \\\n",
       "status                                                                   \n",
       "0               0.000023  0.001925  0.002056    0.005776      0.017615   \n",
       "1               0.000051  0.003757  0.003900    0.011273      0.033658   \n",
       "\n",
       "        MDVP:Shimmer(dB)  ...  MDVP:APQ  Shimmer:DDA       NHR        HNR  \\\n",
       "status                    ...                                               \n",
       "0               0.162958  ...  0.013305     0.028511  0.011483  24.678750   \n",
       "1               0.321204  ...  0.027600     0.053027  0.029211  20.974048   \n",
       "\n",
       "            RPDE       DFA   spread1   spread2        D2       PPE  \n",
       "status                                                              \n",
       "0       0.442552  0.695716 -6.759264  0.160292  2.154491  0.123017  \n",
       "1       0.516816  0.725408 -5.333420  0.248133  2.456058  0.233828  \n",
       "\n",
       "[2 rows x 22 columns]"
      ]
     },
     "execution_count": 13,
     "metadata": {},
     "output_type": "execute_result"
    }
   ],
   "source": [
    "#grouping data as per whether they have parkinson or not\n",
    "\n",
    "parkinson_data.groupby('status').mean()"
   ]
  },
  {
   "cell_type": "code",
   "execution_count": 21,
   "id": "05b333ab",
   "metadata": {},
   "outputs": [],
   "source": [
    " #Data preprocessing\n",
    "\n",
    " # seperating target variable\n",
    " # A-> parkinson data\n",
    " # B-> parkinson status\n",
    "\n",
    "A=parkinson_data.drop(columns=['name','status'],axis=1)\n",
    "B=parkinson_data['status']"
   ]
  },
  {
   "cell_type": "code",
   "execution_count": 22,
   "id": "1b083350",
   "metadata": {},
   "outputs": [
    {
     "name": "stdout",
     "output_type": "stream",
     "text": [
      "     MDVP:Fo(Hz)  MDVP:Fhi(Hz)  MDVP:Flo(Hz)  MDVP:Jitter(%)  \\\n",
      "0        119.992       157.302        74.997         0.00784   \n",
      "1        122.400       148.650       113.819         0.00968   \n",
      "2        116.682       131.111       111.555         0.01050   \n",
      "3        116.676       137.871       111.366         0.00997   \n",
      "4        116.014       141.781       110.655         0.01284   \n",
      "..           ...           ...           ...             ...   \n",
      "190      174.188       230.978        94.261         0.00459   \n",
      "191      209.516       253.017        89.488         0.00564   \n",
      "192      174.688       240.005        74.287         0.01360   \n",
      "193      198.764       396.961        74.904         0.00740   \n",
      "194      214.289       260.277        77.973         0.00567   \n",
      "\n",
      "     MDVP:Jitter(Abs)  MDVP:RAP  MDVP:PPQ  Jitter:DDP  MDVP:Shimmer  \\\n",
      "0             0.00007   0.00370   0.00554     0.01109       0.04374   \n",
      "1             0.00008   0.00465   0.00696     0.01394       0.06134   \n",
      "2             0.00009   0.00544   0.00781     0.01633       0.05233   \n",
      "3             0.00009   0.00502   0.00698     0.01505       0.05492   \n",
      "4             0.00011   0.00655   0.00908     0.01966       0.06425   \n",
      "..                ...       ...       ...         ...           ...   \n",
      "190           0.00003   0.00263   0.00259     0.00790       0.04087   \n",
      "191           0.00003   0.00331   0.00292     0.00994       0.02751   \n",
      "192           0.00008   0.00624   0.00564     0.01873       0.02308   \n",
      "193           0.00004   0.00370   0.00390     0.01109       0.02296   \n",
      "194           0.00003   0.00295   0.00317     0.00885       0.01884   \n",
      "\n",
      "     MDVP:Shimmer(dB)  ...  MDVP:APQ  Shimmer:DDA      NHR     HNR      RPDE  \\\n",
      "0               0.426  ...   0.02971      0.06545  0.02211  21.033  0.414783   \n",
      "1               0.626  ...   0.04368      0.09403  0.01929  19.085  0.458359   \n",
      "2               0.482  ...   0.03590      0.08270  0.01309  20.651  0.429895   \n",
      "3               0.517  ...   0.03772      0.08771  0.01353  20.644  0.434969   \n",
      "4               0.584  ...   0.04465      0.10470  0.01767  19.649  0.417356   \n",
      "..                ...  ...       ...          ...      ...     ...       ...   \n",
      "190             0.405  ...   0.02745      0.07008  0.02764  19.517  0.448439   \n",
      "191             0.263  ...   0.01879      0.04812  0.01810  19.147  0.431674   \n",
      "192             0.256  ...   0.01667      0.03804  0.10715  17.883  0.407567   \n",
      "193             0.241  ...   0.01588      0.03794  0.07223  19.020  0.451221   \n",
      "194             0.190  ...   0.01373      0.03078  0.04398  21.209  0.462803   \n",
      "\n",
      "          DFA   spread1   spread2        D2       PPE  \n",
      "0    0.815285 -4.813031  0.266482  2.301442  0.284654  \n",
      "1    0.819521 -4.075192  0.335590  2.486855  0.368674  \n",
      "2    0.825288 -4.443179  0.311173  2.342259  0.332634  \n",
      "3    0.819235 -4.117501  0.334147  2.405554  0.368975  \n",
      "4    0.823484 -3.747787  0.234513  2.332180  0.410335  \n",
      "..        ...       ...       ...       ...       ...  \n",
      "190  0.657899 -6.538586  0.121952  2.657476  0.133050  \n",
      "191  0.683244 -6.195325  0.129303  2.784312  0.168895  \n",
      "192  0.655683 -6.787197  0.158453  2.679772  0.131728  \n",
      "193  0.643956 -6.744577  0.207454  2.138608  0.123306  \n",
      "194  0.664357 -5.724056  0.190667  2.555477  0.148569  \n",
      "\n",
      "[195 rows x 22 columns]\n",
      "*************************************************************************************\n",
      "0      1\n",
      "1      1\n",
      "2      1\n",
      "3      1\n",
      "4      1\n",
      "      ..\n",
      "190    0\n",
      "191    0\n",
      "192    0\n",
      "193    0\n",
      "194    0\n",
      "Name: status, Length: 195, dtype: int64\n"
     ]
    }
   ],
   "source": [
    "print(A)\n",
    "print('*************************************************************************************')\n"
   ]
  },
  {
   "cell_type": "code",
   "execution_count": 27,
   "id": "a6ceeb35",
   "metadata": {},
   "outputs": [],
   "source": [
    "# splitting the data into training and testing data\n",
    "\n",
    "A_train,A_test,B_train,B_test=train_test_split(A,B,\n",
    "test_size=0.1,random_state=3)\n",
    "\n",
    "\n"
   ]
  },
  {
   "cell_type": "markdown",
   "id": "616821ef",
   "metadata": {},
   "source": [
    "Since the data we have is small we will put larger amount of data into train \n"
   ]
  },
  {
   "cell_type": "code",
   "execution_count": 28,
   "id": "a2b103b4",
   "metadata": {},
   "outputs": [
    {
     "name": "stdout",
     "output_type": "stream",
     "text": [
      "(195, 22) (175, 22) (20, 22)\n"
     ]
    }
   ],
   "source": [
    "print(A.shape,A_train.shape,A_test.shape)"
   ]
  },
  {
   "cell_type": "code",
   "execution_count": 29,
   "id": "46755ddf",
   "metadata": {},
   "outputs": [],
   "source": [
    "# normalizing the values\n",
    "#scaler=MinMaxScaler()\n",
    "scaler=StandardScaler()\n"
   ]
  },
  {
   "cell_type": "code",
   "execution_count": 31,
   "id": "a8fa4cd2",
   "metadata": {},
   "outputs": [
    {
     "data": {
      "text/plain": [
       "array([[-0.8018426 , -0.6349701 , -0.39970565, ...,  0.25301014,\n",
       "        -1.00090299, -0.42536886],\n",
       "       [-1.02710932,  4.32968323, -0.19827121, ...,  0.97140289,\n",
       "        -1.22777564,  0.23821636],\n",
       "       [-0.9305423 , -0.61133438, -0.11491032, ...,  0.11118506,\n",
       "        -0.14861266,  2.39503167],\n",
       "       ...,\n",
       "       [-0.82813297, -0.7935518 , -0.24994991, ..., -0.0975391 ,\n",
       "         0.37445529, -0.4014294 ],\n",
       "       [ 1.05154409,  0.39866445,  1.35034503, ...,  1.56284365,\n",
       "         2.12981496,  2.91285681],\n",
       "       [ 0.01253123, -0.36850685,  0.65402561, ..., -0.48472836,\n",
       "        -0.68958499, -1.14610781]])"
      ]
     },
     "execution_count": 31,
     "metadata": {},
     "output_type": "execute_result"
    }
   ],
   "source": [
    "scaler.fit_transform(A_train)"
   ]
  },
  {
   "cell_type": "code",
   "execution_count": 32,
   "id": "9db59ed5",
   "metadata": {},
   "outputs": [
    {
     "name": "stdout",
     "output_type": "stream",
     "text": [
      "[[ 1.17389450e+00  1.60061934e-01  1.84812274e+00 -1.00685327e+00\n",
      "  -1.06465050e+00 -8.66920800e-01 -9.62375137e-01 -8.65732153e-01\n",
      "  -1.13986977e+00 -1.08657611e+00 -1.14722779e+00 -1.04188956e+00\n",
      "  -1.10223598e+00 -1.14763975e+00 -6.42309528e-01  2.65699278e+00\n",
      "  -1.50397099e+00  4.33393571e-01 -2.15325359e+00 -7.35567087e-01\n",
      "  -2.57962071e+00 -1.87249331e+00]\n",
      " [-1.21092464e+00  9.89651780e-02 -8.65342005e-01  6.56643438e-02\n",
      "   5.45586023e-01 -1.29036821e-02  1.79670530e-01 -1.29411718e-02\n",
      "   5.04715210e-01  6.01119317e-01  2.18526929e-01  4.59844101e-01\n",
      "   9.70615990e-01  2.18882272e-01  1.71056354e-01  3.36491844e-02\n",
      "   2.50593702e-01  3.60935318e-01  1.10472332e-01  1.39094457e-01\n",
      "   1.22668410e+00  1.68836241e-01]\n",
      " [-4.13773129e-02 -3.73273810e-01 -9.14288692e-01 -7.33420209e-01\n",
      "  -7.17344586e-01 -7.63053853e-01 -7.79817651e-01 -7.61858364e-01\n",
      "  -6.30510948e-01 -6.70353927e-01 -5.03248508e-01 -7.09395627e-01\n",
      "  -7.49294585e-01 -5.03638335e-01 -4.85516105e-01  7.15943084e-01\n",
      "  -2.09998978e-01 -1.17811026e+00 -3.93945571e-01 -2.56885079e-01\n",
      "  -7.01102207e-01 -4.07647590e-01]\n",
      " [-3.70212160e-01  4.30810471e+00 -1.13650022e+00  5.67104212e+00\n",
      "   5.59730846e+00  5.90366536e+00  5.49931076e+00  5.90530000e+00\n",
      "   3.81379115e+00  3.73133820e+00  4.34496465e+00  2.99488074e+00\n",
      "   2.49301513e+00  4.34546183e+00  6.81258365e+00 -2.73207787e+00\n",
      "   9.57652210e-01 -1.40934947e+00  2.28832268e+00  5.42087124e-01\n",
      "   8.10898018e-01  2.79681106e+00]\n",
      " [ 1.30269076e+00  2.57270367e-01  1.91378293e+00  9.09198606e-03\n",
      "  -4.01611934e-01  1.87136363e-01  2.68317049e-02  1.88394443e-01\n",
      "  -6.69737433e-01 -6.87458948e-01 -6.24264749e-01 -6.30405355e-01\n",
      "  -7.07891844e-01 -6.24658736e-01 -4.21818777e-01  1.15113547e-01\n",
      "  -1.52290182e+00 -1.06384655e-01 -7.40464414e-01 -4.86779824e-01\n",
      "   3.06502089e-01 -8.00922167e-01]\n",
      " [ 5.71268008e-01  5.96792122e-02  5.82832511e-01 -6.69776307e-01\n",
      "  -7.17344586e-01 -6.01483047e-01 -5.88769119e-01 -6.02841700e-01\n",
      "   5.00031451e-01  2.93228935e-01  5.86978163e-01  6.15987662e-01\n",
      "   2.94597469e-01  5.86985991e-01  2.47147280e-01 -1.43366494e+00\n",
      "   9.80242430e-01 -1.11281227e-01 -6.41605108e-01  1.31868410e+00\n",
      "   7.12881286e-01 -7.04977637e-01]\n",
      " [ 5.24408861e-01  3.35422009e-01  2.28428193e-01 -2.00697174e-01\n",
      "  -4.01611934e-01 -1.24464477e-01 -8.77974141e-02 -1.23226923e-01\n",
      "   2.11124465e+00  1.73575239e+00  2.31362060e+00  2.21783690e+00\n",
      "   1.58351230e+00  2.31332760e+00  7.29344701e-01 -1.91193958e+00\n",
      "   1.02019792e+00  4.13917321e-01  1.64174244e-01  8.86875570e-01\n",
      "   2.00282865e+00  1.85799196e-01]\n",
      " [-3.95174735e-01  7.15357874e-02 -7.42011047e-01  2.33024235e-01\n",
      "   2.29853371e-01  3.33319474e-01  2.77317558e-01  3.33304790e-01\n",
      "   9.21569788e-01  9.43219742e-01  1.14235627e+00  7.55598376e-01\n",
      "   5.90525255e-01  1.14238319e+00 -9.38207705e-02 -8.64847790e-01\n",
      "   3.97257245e-01  4.25709439e-01  2.55251446e-01 -7.74353998e-01\n",
      "  -7.95197841e-01  2.89910212e-01]\n",
      " [-4.25689913e-01 -4.11309969e-01  3.58508835e-01 -7.35777391e-01\n",
      "  -7.17344586e-01 -7.74594625e-01 -7.62835559e-01 -7.73399896e-01\n",
      "  -9.63643328e-01 -9.32630919e-01 -9.44093385e-01 -9.43610969e-01\n",
      "  -8.21240331e-01 -9.44138187e-01 -4.93586355e-01  9.02522754e-01\n",
      "  -3.46299067e-01 -1.30980419e+00 -8.12090612e-01 -8.63258560e-01\n",
      "  -9.26688332e-01 -7.76166052e-01]\n",
      " [-9.14560455e-01 -6.54579907e-01 -9.85871024e-02  9.23678436e-01\n",
      "   1.49278398e+00  7.02624173e-01  1.55097444e+00  7.01351424e-01\n",
      "   1.51465081e+00  1.37654695e+00  1.50648549e+00  2.07638921e+00\n",
      "   9.65186122e-01  1.50616475e+00 -2.71078041e-01 -3.06064375e-01\n",
      "  -5.92476754e-01  1.85167540e+00  1.48616715e+00  1.29952918e+00\n",
      "   4.76401313e-02  1.91250908e+00]\n",
      " [-7.77918121e-01 -6.04830955e-01 -4.79048874e-01  2.87239412e-01\n",
      "   5.45586023e-01  3.67941789e-01  2.68317049e-02  3.69211779e-01\n",
      "  -3.58267439e-01 -2.99745134e-01 -3.50897704e-01 -4.18233810e-01\n",
      "  -3.92959521e-01 -3.50922115e-01  2.58676208e-01  2.45552087e-01\n",
      "   1.10476717e+00 -1.73371523e+00  2.39820613e-01  6.37032930e-02\n",
      "   8.34242722e-01  1.80875973e-01]\n",
      " [-8.27867413e-01 -6.61514676e-01 -1.92897962e-02 -6.41490128e-01\n",
      "  -4.01611934e-01 -6.32258438e-01 -5.54804936e-01 -6.31054334e-01\n",
      "  -7.59314329e-01 -7.72984054e-01 -8.11191621e-01 -7.41542831e-01\n",
      "  -6.78027572e-01 -8.11231854e-01 -4.86092552e-01  7.07342741e-01\n",
      "   9.54559502e-01  8.40762638e-01  5.13720402e-02  3.87523907e-01\n",
      "  -1.42549683e+00  7.83282560e-02]\n",
      " [-1.29397228e+00 -9.62629659e-01 -4.59901811e-01  2.02044135e-03\n",
      "   5.45586023e-01  1.21738656e-01  6.50414112e-02  1.21710036e-01\n",
      "  -2.79814471e-01 -3.39656850e-01 -1.71534347e-01 -2.96992927e-01\n",
      "  -4.06534190e-01 -1.71192413e-01 -3.04511933e-01 -3.31865405e-01\n",
      "   5.56637392e-01  1.27694262e+00  6.30308772e-01 -9.33210969e-01\n",
      "   1.08494704e-01  6.95597845e-01]\n",
      " [ 2.36338292e+00  7.12642491e-01  1.54108099e+00 -9.90353000e-01\n",
      "  -1.12779703e+00 -8.74614647e-01 -9.32656477e-01 -8.74708900e-01\n",
      "  -1.02628861e+00 -9.83945983e-01 -9.89474476e-01 -9.31670579e-01\n",
      "  -1.01128570e+00 -9.89881017e-01 -5.36531612e-01  1.16578882e+00\n",
      "   1.09216583e+00 -1.52330938e+00 -1.54268521e+00 -2.90042401e-01\n",
      "  -9.60563295e-01 -1.38414918e+00]\n",
      " [-6.30291288e-01 -5.15464231e-01 -9.18972146e-01  2.22955703e+00\n",
      "   2.43998194e+00  2.25293453e+00  2.44677977e+00  2.25432868e+00\n",
      "   1.91159941e+00  1.75855909e+00  1.82955564e+00  1.77053152e+00\n",
      "   1.91677043e+00  1.82960618e+00  2.75238337e+00 -1.64007318e+00\n",
      "   1.37493736e+00 -1.37433990e+00  1.40554712e+00  1.01346975e+00\n",
      "   6.70107626e-01  1.77141556e+00]\n",
      " [ 9.23641066e-01  3.02772186e-01  1.21982819e+00  5.89733155e+00\n",
      "   3.70291255e+00  5.69593146e+00  6.90033332e+00  5.69755242e+00\n",
      "   5.27102576e+00  5.85236083e+00  4.44869285e+00  5.69065341e+00\n",
      "   7.75659307e+00  4.44919360e+00  5.59714640e+00 -3.22134185e+00\n",
      "   1.24102884e+00  9.17934071e-01  3.07859930e+00  2.68719891e+00\n",
      "   1.84949128e+00  3.76037461e+00]\n",
      " [-1.06201830e+00 -7.92578498e-01 -2.02931705e-01 -3.37413705e-01\n",
      "  -8.58792815e-02 -3.59126838e-01 -2.23654148e-01 -3.60469526e-01\n",
      "  -4.13301611e-01 -4.47988651e-01 -2.65538034e-01 -5.00898048e-01\n",
      "  -4.84588537e-01 -2.65559511e-01 -5.39990291e-01  9.30473870e-01\n",
      "  -6.45158452e-01  1.79858336e+00  2.81508363e-01  3.02722266e-01\n",
      "  -1.63113778e+00  3.23182804e-01]\n",
      " [ 6.18972116e-01  4.63958662e-02  1.37279806e+00 -7.56992025e-01\n",
      "  -7.17344586e-01 -6.39952286e-01 -7.07643761e-01 -6.40031081e-01\n",
      "  -8.55331395e-01 -8.24299118e-01 -8.68458235e-01 -7.89304391e-01\n",
      "  -7.87303658e-01 -8.68860616e-01 -5.94464477e-01  1.14978262e+00\n",
      "  -8.91038394e-01  8.79219980e-01 -7.22142841e-01 -1.53823055e-01\n",
      "  -3.16535115e-01 -7.36301939e-01]\n",
      " [-9.65571984e-01 -8.61450601e-01 -6.66088582e-01 -6.55633217e-01\n",
      "  -4.01611934e-01 -6.66880754e-01 -6.31224349e-01 -6.65678930e-01\n",
      "  -1.00696810e+00 -9.66840961e-01 -1.05106310e+00 -9.39937003e-01\n",
      "  -8.51783337e-01 -1.05075140e+00 -4.58423124e-01  6.80825016e-01\n",
      "   5.63293439e-01 -1.08448855e+00 -9.66343140e-01 -9.00459167e-01\n",
      "  -1.26714174e+00 -9.71403371e-01]\n",
      " [-1.17568692e-01 -4.05757729e-01  4.12047143e-01 -8.20635927e-01\n",
      "  -7.17344586e-01 -7.82288473e-01 -8.43500495e-01 -7.81094251e-01\n",
      "  -9.12707446e-01 -8.52807487e-01 -9.39771377e-01 -8.50843324e-01\n",
      "  -8.76217741e-01 -9.40176210e-01 -4.94451025e-01  1.31295025e+00\n",
      "  -1.25981989e+00  3.13061992e-02 -1.23799695e+00 -1.77856151e-01\n",
      "  -1.05210460e+00 -1.07522273e+00]]\n"
     ]
    }
   ],
   "source": [
    "A_test=scaler.transform(A_test)\n",
    "print(A_test)"
   ]
  },
  {
   "cell_type": "code",
   "execution_count": 38,
   "id": "784ac5ae",
   "metadata": {},
   "outputs": [],
   "source": [
    "# create model\n",
    "\n",
    "model=svm.SVC(kernel='linear')\n"
   ]
  },
  {
   "cell_type": "markdown",
   "id": "398dd93e",
   "metadata": {},
   "source": [
    "mention of kerner is linear is req\n"
   ]
  },
  {
   "cell_type": "code",
   "execution_count": 39,
   "id": "cbb9f827",
   "metadata": {},
   "outputs": [
    {
     "data": {
      "text/html": [
       "<style>#sk-container-id-4 {color: black;background-color: white;}#sk-container-id-4 pre{padding: 0;}#sk-container-id-4 div.sk-toggleable {background-color: white;}#sk-container-id-4 label.sk-toggleable__label {cursor: pointer;display: block;width: 100%;margin-bottom: 0;padding: 0.3em;box-sizing: border-box;text-align: center;}#sk-container-id-4 label.sk-toggleable__label-arrow:before {content: \"▸\";float: left;margin-right: 0.25em;color: #696969;}#sk-container-id-4 label.sk-toggleable__label-arrow:hover:before {color: black;}#sk-container-id-4 div.sk-estimator:hover label.sk-toggleable__label-arrow:before {color: black;}#sk-container-id-4 div.sk-toggleable__content {max-height: 0;max-width: 0;overflow: hidden;text-align: left;background-color: #f0f8ff;}#sk-container-id-4 div.sk-toggleable__content pre {margin: 0.2em;color: black;border-radius: 0.25em;background-color: #f0f8ff;}#sk-container-id-4 input.sk-toggleable__control:checked~div.sk-toggleable__content {max-height: 200px;max-width: 100%;overflow: auto;}#sk-container-id-4 input.sk-toggleable__control:checked~label.sk-toggleable__label-arrow:before {content: \"▾\";}#sk-container-id-4 div.sk-estimator input.sk-toggleable__control:checked~label.sk-toggleable__label {background-color: #d4ebff;}#sk-container-id-4 div.sk-label input.sk-toggleable__control:checked~label.sk-toggleable__label {background-color: #d4ebff;}#sk-container-id-4 input.sk-hidden--visually {border: 0;clip: rect(1px 1px 1px 1px);clip: rect(1px, 1px, 1px, 1px);height: 1px;margin: -1px;overflow: hidden;padding: 0;position: absolute;width: 1px;}#sk-container-id-4 div.sk-estimator {font-family: monospace;background-color: #f0f8ff;border: 1px dotted black;border-radius: 0.25em;box-sizing: border-box;margin-bottom: 0.5em;}#sk-container-id-4 div.sk-estimator:hover {background-color: #d4ebff;}#sk-container-id-4 div.sk-parallel-item::after {content: \"\";width: 100%;border-bottom: 1px solid gray;flex-grow: 1;}#sk-container-id-4 div.sk-label:hover label.sk-toggleable__label {background-color: #d4ebff;}#sk-container-id-4 div.sk-serial::before {content: \"\";position: absolute;border-left: 1px solid gray;box-sizing: border-box;top: 0;bottom: 0;left: 50%;z-index: 0;}#sk-container-id-4 div.sk-serial {display: flex;flex-direction: column;align-items: center;background-color: white;padding-right: 0.2em;padding-left: 0.2em;position: relative;}#sk-container-id-4 div.sk-item {position: relative;z-index: 1;}#sk-container-id-4 div.sk-parallel {display: flex;align-items: stretch;justify-content: center;background-color: white;position: relative;}#sk-container-id-4 div.sk-item::before, #sk-container-id-4 div.sk-parallel-item::before {content: \"\";position: absolute;border-left: 1px solid gray;box-sizing: border-box;top: 0;bottom: 0;left: 50%;z-index: -1;}#sk-container-id-4 div.sk-parallel-item {display: flex;flex-direction: column;z-index: 1;position: relative;background-color: white;}#sk-container-id-4 div.sk-parallel-item:first-child::after {align-self: flex-end;width: 50%;}#sk-container-id-4 div.sk-parallel-item:last-child::after {align-self: flex-start;width: 50%;}#sk-container-id-4 div.sk-parallel-item:only-child::after {width: 0;}#sk-container-id-4 div.sk-dashed-wrapped {border: 1px dashed gray;margin: 0 0.4em 0.5em 0.4em;box-sizing: border-box;padding-bottom: 0.4em;background-color: white;}#sk-container-id-4 div.sk-label label {font-family: monospace;font-weight: bold;display: inline-block;line-height: 1.2em;}#sk-container-id-4 div.sk-label-container {text-align: center;}#sk-container-id-4 div.sk-container {/* jupyter's `normalize.less` sets `[hidden] { display: none; }` but bootstrap.min.css set `[hidden] { display: none !important; }` so we also need the `!important` here to be able to override the default hidden behavior on the sphinx rendered scikit-learn.org. See: https://github.com/scikit-learn/scikit-learn/issues/21755 */display: inline-block !important;position: relative;}#sk-container-id-4 div.sk-text-repr-fallback {display: none;}</style><div id=\"sk-container-id-4\" class=\"sk-top-container\"><div class=\"sk-text-repr-fallback\"><pre>SVC(kernel=&#x27;linear&#x27;)</pre><b>In a Jupyter environment, please rerun this cell to show the HTML representation or trust the notebook. <br />On GitHub, the HTML representation is unable to render, please try loading this page with nbviewer.org.</b></div><div class=\"sk-container\" hidden><div class=\"sk-item\"><div class=\"sk-estimator sk-toggleable\"><input class=\"sk-toggleable__control sk-hidden--visually\" id=\"sk-estimator-id-4\" type=\"checkbox\" checked><label for=\"sk-estimator-id-4\" class=\"sk-toggleable__label sk-toggleable__label-arrow\">SVC</label><div class=\"sk-toggleable__content\"><pre>SVC(kernel=&#x27;linear&#x27;)</pre></div></div></div></div></div>"
      ],
      "text/plain": [
       "SVC(kernel='linear')"
      ]
     },
     "execution_count": 39,
     "metadata": {},
     "output_type": "execute_result"
    }
   ],
   "source": [
    "#train model\n",
    "model.fit(A_train,B_train)"
   ]
  },
  {
   "cell_type": "markdown",
   "id": "8860a979",
   "metadata": {},
   "source": [
    "MODEL EVALUATION\n"
   ]
  },
  {
   "cell_type": "markdown",
   "id": "6e5934de",
   "metadata": {},
   "source": []
  },
  {
   "cell_type": "code",
   "execution_count": 69,
   "id": "9174f803",
   "metadata": {},
   "outputs": [],
   "source": [
    "#checking accuracy score\n",
    "#on training data\n",
    "A_train_predict=model.predict(A_train)\n",
    "training_accuracy=accuracy_score(B_train,A_train_predict)\n"
   ]
  },
  {
   "cell_type": "code",
   "execution_count": 70,
   "id": "750ea48f",
   "metadata": {},
   "outputs": [
    {
     "name": "stdout",
     "output_type": "stream",
     "text": [
      "accuracy of training data 0.8742857142857143\n"
     ]
    }
   ],
   "source": [
    "print('accuracy of training data',training_accuracy)"
   ]
  },
  {
   "cell_type": "code",
   "execution_count": 76,
   "id": "a4f2164a",
   "metadata": {},
   "outputs": [
    {
     "name": "stderr",
     "output_type": "stream",
     "text": [
      "c:\\Users\\ayush\\AppData\\Local\\Programs\\Python\\Python310\\lib\\site-packages\\sklearn\\base.py:450: UserWarning: X does not have valid feature names, but SVC was fitted with feature names\n",
      "  warnings.warn(\n"
     ]
    }
   ],
   "source": [
    "A_test_predict=model.predict(A_test)\n",
    "training_acc=accuracy_score(B_test,A_test_predict)\n"
   ]
  },
  {
   "cell_type": "code",
   "execution_count": 77,
   "id": "8573e9fc",
   "metadata": {},
   "outputs": [
    {
     "name": "stdout",
     "output_type": "stream",
     "text": [
      "accuracy of training data 0.85\n"
     ]
    }
   ],
   "source": [
    "print('accuracy of training data',training_acc)"
   ]
  },
  {
   "cell_type": "markdown",
   "id": "939dda7b",
   "metadata": {},
   "source": [
    "Since we are seeing that the accuracy score between the test data and training data is very low we assume our model to note be overfit"
   ]
  },
  {
   "cell_type": "code",
   "execution_count": 1,
   "id": "8cc012e7",
   "metadata": {},
   "outputs": [
    {
     "name": "stdout",
     "output_type": "stream",
     "text": [
      "Enter the data for user\n"
     ]
    }
   ],
   "source": [
    "inpu=[]\n",
    "print('Enter the data for user')\n",
    "MDVP_Fo_hz_=input('MDVP:Fo(Hz)')\n",
    "inpu.append(MDVP_Fo_hz_)\n",
    "MDVP_Fhi=input('MDVP:Fhi(Hz)')\n",
    "inpu.append(MDVP_Fhi)\n",
    "MDVPflo=input('MDVP:Flo(Hz)')\n",
    "inpu.append(MDVPflo)\n",
    "mdvp_jitter=input('MDVP:Jitter(Hz)(%)')\n",
    "inpu.append(mdvp_jitter)\n",
    "mdvp_jitter2=input('MDVP:Jitter(abs')\n",
    "inpu.append(mdvp_jitter2)\n",
    "mdvp_rap=input('MDVP:RAP')\n",
    "inpu.append(mdvp_rap)\n",
    "mdvp_ppq=input('MDVP:PPQ')\n",
    "inpu.append(mdvp_ppq)\n",
    "jitter_ddp=input('Jitter DDP')\n",
    "inpu.append(jitter_ddp)\n",
    "mdvp_shimmer=input('MDVP:SHimmer')\n",
    "inpu.append(mdvp_shimmer)\n",
    "mdvp_shimmer2=input('MDVP:SHimmer(db)')\n",
    "inpu.append(mdvp_shimmer2)\n",
    "shimmer=input('Shimmer:APQ3')\n",
    "inpu.append(shimmer)\n",
    "shimmer2=input('Shimmer:APQ5')\n",
    "inpu.append(shimmer2)\n",
    "mdvp_apq=input('MDVP:APQ')\n",
    "inpu.append(mdvp_apq)\n",
    "shimmer3=input('Shimmer:DDA')\n",
    "inpu.append(shimmer3)\n",
    "nhr=input('NHR')\n",
    "inpu.apppend(nhr)\n",
    "hnr=input('HNR')\n",
    "inpu.append(hnr)\n",
    "rpde=input('RPDE')\n",
    "inpu.append(rpde)\n",
    "dfa=input('DFA')\n",
    "inpu.append(dfa)\n",
    "spread1=input('Spread1')\n",
    "inpu.append(spread1)\n",
    "spread2=input('Spread2')\n",
    "inpu.append(spread2)\n",
    "d2=input('D2')\n",
    "inpu.append(d2)\n",
    "ppe=input('PPE')\n",
    "inpu.append(ppe)\n",
    "input_data=np.asarray(inpu)\n",
    "input_data_reshape=input_data.reshape(1,-1)\n",
    "std_input=scaler.transform(input_data_reshape)\n",
    "pred=model.predict(std_input)\n",
    "\n",
    "if(pred):\n",
    "    print(\"the person has parkinson\")\n",
    "else:\n",
    "    print('the person dose not have parkinson')"
   ]
  }
 ],
 "metadata": {
  "kernelspec": {
   "display_name": "Python 3.10.2 64-bit",
   "language": "python",
   "name": "python3"
  },
  "language_info": {
   "codemirror_mode": {
    "name": "ipython",
    "version": 3
   },
   "file_extension": ".py",
   "mimetype": "text/x-python",
   "name": "python",
   "nbconvert_exporter": "python",
   "pygments_lexer": "ipython3",
   "version": "3.10.2"
  },
  "vscode": {
   "interpreter": {
    "hash": "a142374344a434e540cc66d0e40c6b46d48ceabbdee1855ae756d796bf39d241"
   }
  }
 },
 "nbformat": 4,
 "nbformat_minor": 5
}
